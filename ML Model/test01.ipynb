{
 "cells": [
  {
   "cell_type": "code",
   "execution_count": 4,
   "id": "b24a68c4",
   "metadata": {},
   "outputs": [],
   "source": [
    "import pandas as pd\n",
    "import numpy as np\n",
    "from sklearn.linear_model import LogisticRegression\n",
    "from sklearn.model_selection import train_test_split\n",
    "from sklearn.metrics import accuracy_score, precision_score, recall_score, f1_score\n",
    "\n",
    "# Read data from the Excel file into a pandas DataFrame\n",
    "df = pd.read_excel('SCC AND CMT data.xlsx', sheet_name='Sheet1')\n",
    "\n",
    "# Extract values into separate NumPy arrays\n",
    "SCC_array = df['SCC (103cells/ml)'].to_numpy()\n",
    "CMT_array = df['CMT(Score)'].to_numpy()\n"
   ]
  },
  {
   "cell_type": "code",
   "execution_count": 6,
   "id": "0fc8c9e7",
   "metadata": {},
   "outputs": [],
   "source": [
    "# Label the data\n",
    "labels = np.where(CMT_array == 0, 0, 1)"
   ]
  },
  {
   "cell_type": "code",
   "execution_count": 7,
   "id": "fc2a4f6b",
   "metadata": {},
   "outputs": [
    {
     "name": "stdout",
     "output_type": "stream",
     "text": [
      "Accuracy: 0.9009009009009009\n",
      "Precision: 0.9479166666666666\n",
      "Recall: 0.7647058823529411\n",
      "F1-score: 0.8465116279069766\n"
     ]
    }
   ],
   "source": [
    "# Split the data\n",
    "X_train, X_test, y_train, y_test = train_test_split(SCC_array, labels, test_size=0.2, random_state=42)\n",
    "\n",
    "# Train a binary classifier\n",
    "classifier = LogisticRegression()\n",
    "classifier.fit(X_train.reshape(-1, 1), y_train)\n",
    "\n",
    "# Validate the model\n",
    "y_pred = classifier.predict(X_test.reshape(-1, 1))\n",
    "\n",
    "accuracy = accuracy_score(y_test, y_pred)\n",
    "precision = precision_score(y_test, y_pred)\n",
    "recall = recall_score(y_test, y_pred)\n",
    "f1 = f1_score(y_test, y_pred)\n",
    "\n",
    "print(\"Accuracy:\", accuracy)\n",
    "print(\"Precision:\", precision)\n",
    "print(\"Recall:\", recall)\n",
    "print(\"F1-score:\", f1)"
   ]
  },
  {
   "cell_type": "code",
   "execution_count": 9,
   "id": "dd502589",
   "metadata": {},
   "outputs": [
    {
     "name": "stdout",
     "output_type": "stream",
     "text": [
      "Best Threshold: 487\n",
      "Best F1-score: 0.8771929824561404\n"
     ]
    }
   ],
   "source": [
    "# Find the threshold value\n",
    "threshold_values = np.sort(X_train)\n",
    "best_threshold = None\n",
    "best_f1 = 0.0\n",
    "\n",
    "for threshold in threshold_values:\n",
    "    y_pred_threshold = np.where(X_test >= threshold, 1, 0)\n",
    "    f1_threshold = f1_score(y_test, y_pred_threshold)\n",
    "    \n",
    "    if f1_threshold > best_f1:\n",
    "        best_f1 = f1_threshold\n",
    "        best_threshold = threshold\n",
    "\n",
    "print(\"Best Threshold:\", best_threshold)\n",
    "print(\"Best F1-score:\", best_f1)"
   ]
  },
  {
   "cell_type": "code",
   "execution_count": 10,
   "id": "f57f4b18",
   "metadata": {},
   "outputs": [],
   "source": [
    "# Validate the final model\n",
    "y_pred_final = np.where(SCC_array >= best_threshold, 1, 0)"
   ]
  },
  {
   "cell_type": "code",
   "execution_count": null,
   "id": "0d1a3f18",
   "metadata": {},
   "outputs": [],
   "source": []
  }
 ],
 "metadata": {
  "kernelspec": {
   "display_name": "Python 3 (ipykernel)",
   "language": "python",
   "name": "python3"
  },
  "language_info": {
   "codemirror_mode": {
    "name": "ipython",
    "version": 3
   },
   "file_extension": ".py",
   "mimetype": "text/x-python",
   "name": "python",
   "nbconvert_exporter": "python",
   "pygments_lexer": "ipython3",
   "version": "3.11.1"
  }
 },
 "nbformat": 4,
 "nbformat_minor": 5
}
